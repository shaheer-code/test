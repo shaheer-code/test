#Libraries
import pandas as pd
import numpy as np
from sklearn.linear_model import LogisticRegression
from sklearn.model_selection import train_test_split
from sklearn import metrics
from sklearn.metrics import confusion_matrix
from sklearn.preprocessing import LabelEncoder

#Bringing in the data (Dataset 1)
df=pd.read_csv('https://raw.githubusercontent.com/Kubick8/Python/main/DA-datasetsd-1.csv')

#Removing nulls
df = df.dropna()

#Label Encoding
data_column_category = df.select_dtypes(exclude=[np.number]).columns
label_encoder = LabelEncoder()
for i in data_column_category:
  df[i] = label_encoder.fit_transform(df[i])

#Features
X=df.drop('Customer', axis=1)

#Target
y=df['Customer']

#Train Test Split
X_train,X_test,y_train,y_test=train_test_split(X,y,test_size=0.1, random_state=0)

#Machine Learning Algorithm/Model
model=LogisticRegression()
model.fit(X_train,y_train)

#Predictions for X_test
y_predicted=model.predict(X_test)

#Performance Evaluation
model.score(X_test,y_test)
cm=confusion_matrix(y_test,y_predicted)
cm

#Predicting for Dataset 2
d2 = pd.read_csv('https://raw.githubusercontent.com/shaheer-code/test/master/DA-dataset-2.csv')

#Remove irrelevant features
d2 = d2.drop('Customer', axis=1)

#Remove Nulls
d2 = d2.dropna()

#Label Encoding
data_column = d2.select_dtypes(exclude=[np.number]).columns
label_encoder = LabelEncoder()
for i in data_column:
  d2[i] = label_encoder.fit_transform(d2[i])

#Changing from pandas dataframe to list
dataset2Features = d2.values.tolist()
dataset2Features

#Predictions for Dataset 2
predictForDataset2 = model.predict(dataset2Features)

#Adding predictions column to Dataset 2
d2['CustomerPred'] = predictForDataset2

#Datset 2 after adding predictions saving as csv file
d2.to_csv('Dataset2WithPredictions')

#View Dataset2 With Predictions
d2
